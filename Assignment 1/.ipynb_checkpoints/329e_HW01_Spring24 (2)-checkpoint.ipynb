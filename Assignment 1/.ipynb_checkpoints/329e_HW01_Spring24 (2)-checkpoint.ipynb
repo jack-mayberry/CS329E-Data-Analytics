{
  "cells": [
    {
      "cell_type": "markdown",
      "id": "18091208",
      "metadata": {
        "id": "18091208"
      },
      "source": [
        "# Homework 1\n",
        "CS 329E - Element of Data Analysis\n"
      ]
    },
    {
      "cell_type": "markdown",
      "id": "1c8b4824",
      "metadata": {
        "id": "1c8b4824"
      },
      "source": [
        "## Practice loading in data\n",
        "Using the file flights.csv load it into a pandas data frame"
      ]
    },
    {
      "cell_type": "markdown",
      "id": "ef6efab2",
      "metadata": {
        "id": "ef6efab2"
      },
      "source": [
        "## Your Name Here\n",
        "\n",
        "Student Name: John \"Jack\" Mayberry\n",
        "\n",
        "Student UT EID: jmm23398\n",
        "\n",
        "---\n",
        "\n",
        "Partner Name: Lily Nguyen\n",
        "\n",
        "Partner UT EID: lmn934\n",
        "\n",
        "---\n",
        "\n",
        "Date Created: 6/10/25\n",
        "\n",
        "Date Last Modified: 6/10/25\n",
        "\n",
        "---\n",
        "\n",
        "Total Points 20."
      ]
    },
    {
      "cell_type": "code",
      "execution_count": 1,
      "id": "99964546",
      "metadata": {
        "id": "99964546"
      },
      "outputs": [],
      "source": [
        "import pandas as pd\n",
        "\n",
        "import numpy as np\n",
        "\n",
        "import matplotlib.pyplot as plt\n",
        "%matplotlib inline"
      ]
    },
    {
      "cell_type": "code",
      "execution_count": 2,
      "id": "68e17b19",
      "metadata": {
        "scrolled": true,
        "colab": {
          "base_uri": "https://localhost:8080/",
          "height": 321
        },
        "id": "68e17b19",
        "outputId": "fc0f311b-ba22-457b-9171-d629be544fed"
      },
      "outputs": [
        {
          "output_type": "error",
          "ename": "FileNotFoundError",
          "evalue": "[Errno 2] No such file or directory: 'flightsSmall30k.csv'",
          "traceback": [
            "\u001b[0;31m---------------------------------------------------------------------------\u001b[0m",
            "\u001b[0;31mFileNotFoundError\u001b[0m                         Traceback (most recent call last)",
            "\u001b[0;32m<ipython-input-2-145556252>\u001b[0m in \u001b[0;36m<cell line: 0>\u001b[0;34m()\u001b[0m\n\u001b[0;32m----> 1\u001b[0;31m \u001b[0mdf\u001b[0m \u001b[0;34m=\u001b[0m \u001b[0mpd\u001b[0m\u001b[0;34m.\u001b[0m\u001b[0mread_csv\u001b[0m\u001b[0;34m(\u001b[0m\u001b[0;34m'flightsSmall30k.csv'\u001b[0m\u001b[0;34m)\u001b[0m\u001b[0;34m\u001b[0m\u001b[0;34m\u001b[0m\u001b[0m\n\u001b[0m\u001b[1;32m      2\u001b[0m \u001b[0mdf\u001b[0m\u001b[0;34m\u001b[0m\u001b[0;34m\u001b[0m\u001b[0m\n",
            "\u001b[0;32m/usr/local/lib/python3.11/dist-packages/pandas/io/parsers/readers.py\u001b[0m in \u001b[0;36mread_csv\u001b[0;34m(filepath_or_buffer, sep, delimiter, header, names, index_col, usecols, dtype, engine, converters, true_values, false_values, skipinitialspace, skiprows, skipfooter, nrows, na_values, keep_default_na, na_filter, verbose, skip_blank_lines, parse_dates, infer_datetime_format, keep_date_col, date_parser, date_format, dayfirst, cache_dates, iterator, chunksize, compression, thousands, decimal, lineterminator, quotechar, quoting, doublequote, escapechar, comment, encoding, encoding_errors, dialect, on_bad_lines, delim_whitespace, low_memory, memory_map, float_precision, storage_options, dtype_backend)\u001b[0m\n\u001b[1;32m   1024\u001b[0m     \u001b[0mkwds\u001b[0m\u001b[0;34m.\u001b[0m\u001b[0mupdate\u001b[0m\u001b[0;34m(\u001b[0m\u001b[0mkwds_defaults\u001b[0m\u001b[0;34m)\u001b[0m\u001b[0;34m\u001b[0m\u001b[0;34m\u001b[0m\u001b[0m\n\u001b[1;32m   1025\u001b[0m \u001b[0;34m\u001b[0m\u001b[0m\n\u001b[0;32m-> 1026\u001b[0;31m     \u001b[0;32mreturn\u001b[0m \u001b[0m_read\u001b[0m\u001b[0;34m(\u001b[0m\u001b[0mfilepath_or_buffer\u001b[0m\u001b[0;34m,\u001b[0m \u001b[0mkwds\u001b[0m\u001b[0;34m)\u001b[0m\u001b[0;34m\u001b[0m\u001b[0;34m\u001b[0m\u001b[0m\n\u001b[0m\u001b[1;32m   1027\u001b[0m \u001b[0;34m\u001b[0m\u001b[0m\n\u001b[1;32m   1028\u001b[0m \u001b[0;34m\u001b[0m\u001b[0m\n",
            "\u001b[0;32m/usr/local/lib/python3.11/dist-packages/pandas/io/parsers/readers.py\u001b[0m in \u001b[0;36m_read\u001b[0;34m(filepath_or_buffer, kwds)\u001b[0m\n\u001b[1;32m    618\u001b[0m \u001b[0;34m\u001b[0m\u001b[0m\n\u001b[1;32m    619\u001b[0m     \u001b[0;31m# Create the parser.\u001b[0m\u001b[0;34m\u001b[0m\u001b[0;34m\u001b[0m\u001b[0m\n\u001b[0;32m--> 620\u001b[0;31m     \u001b[0mparser\u001b[0m \u001b[0;34m=\u001b[0m \u001b[0mTextFileReader\u001b[0m\u001b[0;34m(\u001b[0m\u001b[0mfilepath_or_buffer\u001b[0m\u001b[0;34m,\u001b[0m \u001b[0;34m**\u001b[0m\u001b[0mkwds\u001b[0m\u001b[0;34m)\u001b[0m\u001b[0;34m\u001b[0m\u001b[0;34m\u001b[0m\u001b[0m\n\u001b[0m\u001b[1;32m    621\u001b[0m \u001b[0;34m\u001b[0m\u001b[0m\n\u001b[1;32m    622\u001b[0m     \u001b[0;32mif\u001b[0m \u001b[0mchunksize\u001b[0m \u001b[0;32mor\u001b[0m \u001b[0miterator\u001b[0m\u001b[0;34m:\u001b[0m\u001b[0;34m\u001b[0m\u001b[0;34m\u001b[0m\u001b[0m\n",
            "\u001b[0;32m/usr/local/lib/python3.11/dist-packages/pandas/io/parsers/readers.py\u001b[0m in \u001b[0;36m__init__\u001b[0;34m(self, f, engine, **kwds)\u001b[0m\n\u001b[1;32m   1618\u001b[0m \u001b[0;34m\u001b[0m\u001b[0m\n\u001b[1;32m   1619\u001b[0m         \u001b[0mself\u001b[0m\u001b[0;34m.\u001b[0m\u001b[0mhandles\u001b[0m\u001b[0;34m:\u001b[0m \u001b[0mIOHandles\u001b[0m \u001b[0;34m|\u001b[0m \u001b[0;32mNone\u001b[0m \u001b[0;34m=\u001b[0m \u001b[0;32mNone\u001b[0m\u001b[0;34m\u001b[0m\u001b[0;34m\u001b[0m\u001b[0m\n\u001b[0;32m-> 1620\u001b[0;31m         \u001b[0mself\u001b[0m\u001b[0;34m.\u001b[0m\u001b[0m_engine\u001b[0m \u001b[0;34m=\u001b[0m \u001b[0mself\u001b[0m\u001b[0;34m.\u001b[0m\u001b[0m_make_engine\u001b[0m\u001b[0;34m(\u001b[0m\u001b[0mf\u001b[0m\u001b[0;34m,\u001b[0m \u001b[0mself\u001b[0m\u001b[0;34m.\u001b[0m\u001b[0mengine\u001b[0m\u001b[0;34m)\u001b[0m\u001b[0;34m\u001b[0m\u001b[0;34m\u001b[0m\u001b[0m\n\u001b[0m\u001b[1;32m   1621\u001b[0m \u001b[0;34m\u001b[0m\u001b[0m\n\u001b[1;32m   1622\u001b[0m     \u001b[0;32mdef\u001b[0m \u001b[0mclose\u001b[0m\u001b[0;34m(\u001b[0m\u001b[0mself\u001b[0m\u001b[0;34m)\u001b[0m \u001b[0;34m->\u001b[0m \u001b[0;32mNone\u001b[0m\u001b[0;34m:\u001b[0m\u001b[0;34m\u001b[0m\u001b[0;34m\u001b[0m\u001b[0m\n",
            "\u001b[0;32m/usr/local/lib/python3.11/dist-packages/pandas/io/parsers/readers.py\u001b[0m in \u001b[0;36m_make_engine\u001b[0;34m(self, f, engine)\u001b[0m\n\u001b[1;32m   1878\u001b[0m                 \u001b[0;32mif\u001b[0m \u001b[0;34m\"b\"\u001b[0m \u001b[0;32mnot\u001b[0m \u001b[0;32min\u001b[0m \u001b[0mmode\u001b[0m\u001b[0;34m:\u001b[0m\u001b[0;34m\u001b[0m\u001b[0;34m\u001b[0m\u001b[0m\n\u001b[1;32m   1879\u001b[0m                     \u001b[0mmode\u001b[0m \u001b[0;34m+=\u001b[0m \u001b[0;34m\"b\"\u001b[0m\u001b[0;34m\u001b[0m\u001b[0;34m\u001b[0m\u001b[0m\n\u001b[0;32m-> 1880\u001b[0;31m             self.handles = get_handle(\n\u001b[0m\u001b[1;32m   1881\u001b[0m                 \u001b[0mf\u001b[0m\u001b[0;34m,\u001b[0m\u001b[0;34m\u001b[0m\u001b[0;34m\u001b[0m\u001b[0m\n\u001b[1;32m   1882\u001b[0m                 \u001b[0mmode\u001b[0m\u001b[0;34m,\u001b[0m\u001b[0;34m\u001b[0m\u001b[0;34m\u001b[0m\u001b[0m\n",
            "\u001b[0;32m/usr/local/lib/python3.11/dist-packages/pandas/io/common.py\u001b[0m in \u001b[0;36mget_handle\u001b[0;34m(path_or_buf, mode, encoding, compression, memory_map, is_text, errors, storage_options)\u001b[0m\n\u001b[1;32m    871\u001b[0m         \u001b[0;32mif\u001b[0m \u001b[0mioargs\u001b[0m\u001b[0;34m.\u001b[0m\u001b[0mencoding\u001b[0m \u001b[0;32mand\u001b[0m \u001b[0;34m\"b\"\u001b[0m \u001b[0;32mnot\u001b[0m \u001b[0;32min\u001b[0m \u001b[0mioargs\u001b[0m\u001b[0;34m.\u001b[0m\u001b[0mmode\u001b[0m\u001b[0;34m:\u001b[0m\u001b[0;34m\u001b[0m\u001b[0;34m\u001b[0m\u001b[0m\n\u001b[1;32m    872\u001b[0m             \u001b[0;31m# Encoding\u001b[0m\u001b[0;34m\u001b[0m\u001b[0;34m\u001b[0m\u001b[0m\n\u001b[0;32m--> 873\u001b[0;31m             handle = open(\n\u001b[0m\u001b[1;32m    874\u001b[0m                 \u001b[0mhandle\u001b[0m\u001b[0;34m,\u001b[0m\u001b[0;34m\u001b[0m\u001b[0;34m\u001b[0m\u001b[0m\n\u001b[1;32m    875\u001b[0m                 \u001b[0mioargs\u001b[0m\u001b[0;34m.\u001b[0m\u001b[0mmode\u001b[0m\u001b[0;34m,\u001b[0m\u001b[0;34m\u001b[0m\u001b[0;34m\u001b[0m\u001b[0m\n",
            "\u001b[0;31mFileNotFoundError\u001b[0m: [Errno 2] No such file or directory: 'flightsSmall30k.csv'"
          ]
        }
      ],
      "source": [
        "df = pd.read_csv('flightsSmall30k.csv')\n",
        "df"
      ]
    },
    {
      "cell_type": "code",
      "execution_count": null,
      "id": "8a4a157b",
      "metadata": {
        "id": "8a4a157b"
      },
      "outputs": [],
      "source": [
        "df.info()"
      ]
    },
    {
      "cell_type": "markdown",
      "id": "d627807d",
      "metadata": {
        "id": "d627807d"
      },
      "source": [
        "## Q1 - How many unique Airlines are there in this dataset? (2 points)"
      ]
    },
    {
      "cell_type": "code",
      "execution_count": null,
      "id": "7b9e636f",
      "metadata": {
        "id": "7b9e636f"
      },
      "outputs": [],
      "source": [
        "print(f\"There are {df['AIRLINE'].unique().size} unique Airlines in this dataset.\")"
      ]
    },
    {
      "cell_type": "markdown",
      "id": "6c924608",
      "metadata": {
        "id": "6c924608"
      },
      "source": [
        "## Q2 - What is the mean departure delay of all flights considering only the positive departure delay values? (2 points)\n",
        "Negative delay value means that the flight left earlier than scheduled.\n",
        "\n",
        "\n"
      ]
    },
    {
      "cell_type": "code",
      "execution_count": null,
      "id": "681a41da",
      "metadata": {
        "id": "681a41da"
      },
      "outputs": [],
      "source": [
        "pos_delay = df[df['DEPARTURE_DELAY'] > 0]['DEPARTURE_DELAY'].mean()\n",
        "print(f\"The mean departure delay is {pos_delay:.3f}.\")"
      ]
    },
    {
      "cell_type": "markdown",
      "id": "10ef3f38",
      "metadata": {
        "id": "10ef3f38"
      },
      "source": [
        "# Q3 - Find a list of all airport (Origin or destination airports). (2 points)\n",
        "The returned value should be a list in Python.\n"
      ]
    },
    {
      "cell_type": "code",
      "execution_count": null,
      "id": "f9b93f54",
      "metadata": {
        "id": "f9b93f54"
      },
      "outputs": [],
      "source": [
        "airport_array = np.unique(np.concatenate((df[\"ORIGIN_AIRPORT\"], df[\"DESTINATION_AIRPORT\"])))\n",
        "result = airport_array.tolist()\n",
        "\n",
        "result"
      ]
    },
    {
      "cell_type": "markdown",
      "id": "b1e9f005",
      "metadata": {
        "id": "b1e9f005"
      },
      "source": [
        "# Q4 - Find out which origin airport has the largest departure delay on Weekends. (2 points)\n",
        "Weekend days have the IDs of DAY_OF_WEEK 6 and 7.\n"
      ]
    },
    {
      "cell_type": "code",
      "execution_count": null,
      "id": "9e3c35c6",
      "metadata": {
        "id": "9e3c35c6"
      },
      "outputs": [],
      "source": [
        "# Add your code here!"
      ]
    },
    {
      "cell_type": "markdown",
      "id": "e08ea118",
      "metadata": {
        "id": "e08ea118"
      },
      "source": [
        "# Q5 - Find the top 3 Airlines which had the largest mean departure delay in the month of January (2 points)\n",
        "Month of January has the id of 1. Consider only flights with the positive departure delay."
      ]
    },
    {
      "cell_type": "code",
      "execution_count": null,
      "id": "448df603",
      "metadata": {
        "scrolled": true,
        "id": "448df603"
      },
      "outputs": [],
      "source": [
        "# Add your code here!"
      ]
    },
    {
      "cell_type": "markdown",
      "id": "8597d834",
      "metadata": {
        "id": "8597d834"
      },
      "source": [
        "## Q6 - What percentage of flights out of Austin (AUS) are canceled? (2 points)\n",
        "The column field \"CANCELLED\" will be equal to one of the flight is cancelled."
      ]
    },
    {
      "cell_type": "code",
      "execution_count": null,
      "id": "1f8c82db",
      "metadata": {
        "id": "1f8c82db"
      },
      "outputs": [],
      "source": [
        "# Add your code here!"
      ]
    },
    {
      "cell_type": "markdown",
      "id": "fd991a67",
      "metadata": {
        "id": "fd991a67"
      },
      "source": [
        "# Q7 - Which origin airport has the most cancellation of departure flights? (2 points)\n"
      ]
    },
    {
      "cell_type": "code",
      "execution_count": null,
      "id": "5bcdd8f1",
      "metadata": {
        "id": "5bcdd8f1"
      },
      "outputs": [],
      "source": [
        "# Add your code here!"
      ]
    },
    {
      "cell_type": "markdown",
      "id": "10a47962",
      "metadata": {
        "id": "10a47962"
      },
      "source": [
        "## Q8 - Create a histogram plot that shows the data distribution of the arrival delays consider only positive arrival delays and smaller than 200 minutes. Use 10 minutes bin/bucket size. (2 points)"
      ]
    },
    {
      "cell_type": "code",
      "execution_count": null,
      "id": "1e64dcd8",
      "metadata": {
        "id": "1e64dcd8"
      },
      "outputs": [],
      "source": [
        "# Add your code here!"
      ]
    },
    {
      "cell_type": "markdown",
      "id": "544bc7be",
      "metadata": {
        "id": "544bc7be"
      },
      "source": [
        "## Q9 -  Plot a scatter plot of  flight travel air time and distance. Describe if there is any corrolation between them. (2 points)\n",
        "\n",
        "Describe and interpret the correlation between the two variables of distance and air travel time."
      ]
    },
    {
      "cell_type": "code",
      "execution_count": null,
      "id": "3558bbe9",
      "metadata": {
        "id": "3558bbe9"
      },
      "outputs": [],
      "source": [
        "# Add your code here!"
      ]
    },
    {
      "cell_type": "code",
      "execution_count": null,
      "id": "1f832c08",
      "metadata": {
        "id": "1f832c08"
      },
      "outputs": [],
      "source": [
        "# Add your code here!"
      ]
    },
    {
      "cell_type": "markdown",
      "id": "54344bbf",
      "metadata": {
        "id": "54344bbf"
      },
      "source": [
        "# Using the Airpot Dataset."
      ]
    },
    {
      "cell_type": "code",
      "execution_count": null,
      "id": "bd8f2d34",
      "metadata": {
        "id": "bd8f2d34"
      },
      "outputs": [],
      "source": [
        "# We access the dataset directly from our class GitHub repository.\n",
        "# We use the same dataset as in Example 3\n",
        "# https://github.com/kiat/Elements-of-Data-Analytics/blob/main/Code-Example-003-Pandas-Dataframe-Loading-Data.ipynb\n",
        "\n",
        "airports = pd.read_csv(\"https://raw.githubusercontent.com/kiat/Elements-of-Data-Analytics/main/datasets/airline/airports.csv\")\n",
        "\n",
        "airports"
      ]
    },
    {
      "cell_type": "code",
      "execution_count": null,
      "id": "130ba6e4",
      "metadata": {
        "id": "130ba6e4"
      },
      "outputs": [],
      "source": [
        "airports.info()"
      ]
    },
    {
      "cell_type": "markdown",
      "id": "021c86fa",
      "metadata": {
        "id": "021c86fa"
      },
      "source": [
        "# Question - 10: Which top-3 destination cities has the highst average departure delays on Weekends? (2 points)\n",
        "\n",
        "* Consider only the positive departure delays.\n",
        "* Weekend flights have a day of week of 6 and 7\n",
        "* You need to merge the airport dataset with the flight dataset to get the destination city of each flight\n",
        "* You need to group by city and calculate the mean departure delays\n",
        "* At the end print out the top 3 of the departure delays with the average delays"
      ]
    },
    {
      "cell_type": "code",
      "execution_count": null,
      "id": "7174bab6",
      "metadata": {
        "id": "7174bab6"
      },
      "outputs": [],
      "source": [
        "# Add your code here!"
      ]
    },
    {
      "cell_type": "code",
      "execution_count": null,
      "id": "aeef5965",
      "metadata": {
        "id": "aeef5965"
      },
      "outputs": [],
      "source": []
    }
  ],
  "metadata": {
    "kernelspec": {
      "display_name": "Python 3 (ipykernel)",
      "language": "python",
      "name": "python3"
    },
    "language_info": {
      "codemirror_mode": {
        "name": "ipython",
        "version": 3
      },
      "file_extension": ".py",
      "mimetype": "text/x-python",
      "name": "python",
      "nbconvert_exporter": "python",
      "pygments_lexer": "ipython3",
      "version": "3.9.13"
    },
    "colab": {
      "provenance": []
    }
  },
  "nbformat": 4,
  "nbformat_minor": 5
}